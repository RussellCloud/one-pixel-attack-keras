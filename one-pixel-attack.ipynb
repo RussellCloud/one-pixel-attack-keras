{
 "cells": [
  {
   "cell_type": "markdown",
   "metadata": {},
   "source": [
    "# One Pixel Attack Tutorial"
   ]
  },
  {
   "cell_type": "markdown",
   "metadata": {},
   "source": [
    "![](images/pred2.png \"All it takes is one pixel\")"
   ]
  },
  {
   "cell_type": "markdown",
   "metadata": {},
   "source": [
    "This notebook will demonstrate the one pixel attack with a few different convolutional neural network models. By using differential evolution, we find a special pixel that can modify a target image such that the network misclassifies the image (which it previously correctly classified).\n",
    "\n",
    "In theory, we want models that don't get fooled by such tiny changes. Especially in images, it is undesirable to have a small alteration in the input result in a drastic change in the output. However, even the most accurate neural networks are susceptible to this type of attack.\n",
    "\n",
    "Let's get started."
   ]
  },
  {
   "cell_type": "markdown",
   "metadata": {},
   "source": [
    "## Imports"
   ]
  },
  {
   "cell_type": "markdown",
   "metadata": {},
   "source": [
    "Ensure that you have numpy, pandas, scipy, matplotlib, and keras installed."
   ]
  },
  {
   "cell_type": "code",
   "execution_count": 1,
   "metadata": {},
   "outputs": [
    {
     "name": "stderr",
     "output_type": "stream",
     "text": [
      "Using TensorFlow backend.\n"
     ]
    }
   ],
   "source": [
    "# Python Libraries\n",
    "%matplotlib inline\n",
    "import numpy as np\n",
    "import pandas as pd\n",
    "from keras.datasets import cifar10\n",
    "from keras.models import load_model\n",
    "import matplotlib\n",
    "from matplotlib import pyplot as plt\n",
    "from scipy.optimize import differential_evolution\n",
    "from scipy.stats import truncnorm\n",
    "from IPython.display import clear_output\n",
    "import pickle\n",
    "\n",
    "# Custom Networks\n",
    "from networks.lecun_net import LecunNet\n",
    "from networks.pure_cnn import PureCnn\n",
    "from networks.network_in_network import NetworkInNetwork\n",
    "from networks.resnet import ResNet\n",
    "from networks.densenet import DenseNet\n",
    "from networks.wide_resnet import WideResNet\n",
    "from networks.capsnet import CapsNet\n",
    "\n",
    "# Helper functions\n",
    "from helper import plot_image, plot_images, evaluate_models, visualize_attack, attack_stats\n",
    "\n",
    "matplotlib.style.use('ggplot')"
   ]
  },
  {
   "cell_type": "markdown",
   "metadata": {},
   "source": [
    "## Load Dataset"
   ]
  },
  {
   "cell_type": "code",
   "execution_count": 2,
   "metadata": {
    "collapsed": true
   },
   "outputs": [],
   "source": [
    "from __future__ import absolute_import\n",
    "from __future__ import division\n",
    "from __future__ import print_function\n",
    "\n",
    "from keras.datasets.cifar import load_batch\n",
    "import keras.backend as K\n",
    "import numpy as np\n",
    "import os\n",
    "\n",
    "def load_data():\n",
    "    \"\"\"Loads CIFAR10 dataset.\n",
    "    # Returns\n",
    "        Tuple of Numpy arrays: `(x_train, y_train), (x_test, y_test)`.\n",
    "    \"\"\"\n",
    "    dirname = 'cifar-10-batches-py'\n",
    "    path = '/input/cifar-10/cifar-10-batches-py'\n",
    "    num_train_samples = 50000\n",
    "\n",
    "    x_train = np.empty((num_train_samples, 3, 32, 32), dtype='uint8')\n",
    "    y_train = np.empty((num_train_samples,), dtype='uint8')\n",
    "\n",
    "    for i in range(1, 6):\n",
    "        fpath = os.path.join(path, 'data_batch_' + str(i))\n",
    "        (x_train[(i - 1) * 10000: i * 10000, :, :, :],\n",
    "         y_train[(i - 1) * 10000: i * 10000]) = load_batch(fpath)\n",
    "\n",
    "    fpath = os.path.join(path, 'test_batch')\n",
    "    x_test, y_test = load_batch(fpath)\n",
    "\n",
    "    y_train = np.reshape(y_train, (len(y_train), 1))\n",
    "    y_test = np.reshape(y_test, (len(y_test), 1))\n",
    "\n",
    "    if K.image_data_format() == 'channels_last':\n",
    "        x_train = x_train.transpose(0, 2, 3, 1)\n",
    "        x_test = x_test.transpose(0, 2, 3, 1)\n",
    "\n",
    "    return (x_train, y_train), (x_test, y_test)"
   ]
  },
  {
   "cell_type": "markdown",
   "metadata": {},
   "source": [
    "For this attack, we will use the [Cifar10 dataset](https://www.cs.toronto.edu/~kriz/cifar.html) packaged by Keras. The task of the dataset is to correctly classify a 32x32 pixel image in 1 of 10 categories (e.g., bird, deer, truck).\n",
    "\n",
    "The code below will load the Cifar10 dataset. Keras will need to download the dataset if it is not cached locally already."
   ]
  },
  {
   "cell_type": "code",
   "execution_count": 3,
   "metadata": {
    "collapsed": true
   },
   "outputs": [],
   "source": [
    "(x_train, y_train), (x_test, y_test) = load_data()"
   ]
  },
  {
   "cell_type": "code",
   "execution_count": 4,
   "metadata": {
    "collapsed": true
   },
   "outputs": [],
   "source": [
    "class_names = ['airplane', 'automobile', 'bird', 'cat', 'deer', 'dog', 'frog', 'horse', 'ship', 'truck']"
   ]
  },
  {
   "cell_type": "markdown",
   "metadata": {},
   "source": [
    "We can access and display any image in the dataset by its index. For instance, here is a horse."
   ]
  },
  {
   "cell_type": "code",
   "execution_count": 5,
   "metadata": {},
   "outputs": [
    {
     "data": {
      "image/png": "[encoded data removed]",
      "text/plain": [
       "<matplotlib.figure.Figure at 0x7f97f1a0cc50>"
      ]
     },
     "metadata": {},
     "output_type": "display_data"
    }
   ],
   "source": [
    "image = 99 # Image index in the test set\n",
    "plot_image(x_test[image])"
   ]
  },
  {
   "cell_type": "markdown",
   "metadata": {},
   "source": [
    "## Image Perturbation"
   ]
  },
  {
   "cell_type": "markdown",
   "metadata": {},
   "source": [
    "To begin, we need a function to modify one or more pixels in an image. \n",
    "\n",
    "We can define the perturbation of a pixel as a 5-tuple \n",
    "\n",
    "$$\\textbf{x} = (x, y, r, g, b)$$\n",
    "\n",
    "where $x, y$ are the coordinates of the pixel from 0 to 31, and $r,g,b$ are the red, green, and blue values from 0 to 255. Then multiple perturbations can simply be a concatenation of these tuples:\n",
    "\n",
    "$$X = (x_1, y_1, r_1, g_1, b_1, x_2, y_2, r_2, g_2, b_2, ...)$$\n",
    "\n",
    "We could instead use an array of tuples, but the optimization algorithm we will use requires it to be a flat 1-d vector.\n",
    "\n",
    "Then the function to perturb an image can take as an input the image and $\\textbf{X}$, and output a copy of the image with each pixel at $x_i, y_i$ modified to have the color $r_i, g_i, b_i$."
   ]
  },
  {
   "cell_type": "code",
   "execution_count": 6,
   "metadata": {
    "collapsed": true
   },
   "outputs": [],
   "source": [
    "def perturb_image(x, img):\n",
    "    # Copy the image to keep the original unchanged\n",
    "    img = np.copy(img) \n",
    "    \n",
    "    # Split into an array of 5-tuples (perturbation pixels)\n",
    "    # Make sure to floor the members of x as int types\n",
    "    pixels = np.split(x.astype(int), len(x) // 5)\n",
    "    \n",
    "    # At each pixel's x,y position, assign its rgb value\n",
    "    for pixel in pixels:\n",
    "        x_pos, y_pos, *rgb = pixel\n",
    "        img[x_pos, y_pos] = rgb\n",
    "    return img"
   ]
  },
  {
   "cell_type": "markdown",
   "metadata": {},
   "source": [
    "Now we can modify the pixels of any image we want.\n",
    "\n",
    "Let's modify our horse image by making pixel (16,16) yellow."
   ]
  },
  {
   "cell_type": "code",
   "execution_count": 7,
   "metadata": {},
   "outputs": [
    {
     "data": {
      "image/png": "[encoded data removed]",
      "text/plain": [
       "<matplotlib.figure.Figure at 0x7f97e67090f0>"
      ]
     },
     "metadata": {},
     "output_type": "display_data"
    }
   ],
   "source": [
    "image = 99 # Image index in the test set\n",
    "pixel = np.array([16, 16, 255, 255, 0]) # pixel = x,y,r,g,b\n",
    "image_perturbed = perturb_image(pixel, x_test[image])\n",
    "\n",
    "plot_image(image_perturbed)"
   ]
  },
  {
   "cell_type": "markdown",
   "metadata": {},
   "source": [
    "## Load Models"
   ]
  },
  {
   "cell_type": "markdown",
   "metadata": {},
   "source": [
    "To demonstrate the attack, we need some neural network models trained on the Cifar10 dataset.\n",
    "\n",
    "It is recommended to use Keras with a GPU enabled. The code below can be used to check (if using TensorFlow)."
   ]
  },
  {
   "cell_type": "markdown",
   "metadata": {},
   "source": [
    "### Should output /device:GPU:0\n",
    "\n",
    "```\n",
    "from keras import backend as K\n",
    "K.tensorflow_backend._get_available_gpus()\n",
    "```"
   ]
  },
  {
   "cell_type": "markdown",
   "metadata": {},
   "source": [
    "We will now load some pretrained models, which can be found in the `networks/models` directory. \n",
    "\n",
    "There are two models included in this repository, `lecun_net` and `resnet` which will be loaded automatically. Optionally, you may uncomment the lines below to download the larger, more accurate models (e.g., Capsule Network, DenseNet, etc.)."
   ]
  },
  {
   "cell_type": "code",
   "execution_count": 8,
   "metadata": {},
   "outputs": [
    {
     "name": "stdout",
     "output_type": "stream",
     "text": [
      "Successfully loaded lecun_net\n",
      "Successfully loaded resnet\n"
     ]
    }
   ],
   "source": [
    "lecun_net = LecunNet()\n",
    "resnet = ResNet()\n",
    "\n",
    "models = [lecun_net, resnet]\n",
    "\n",
    "## Uncomment below to download more models to play with\n",
    "\n",
    "# lecun_net = LecunNet()\n",
    "# pure_cnn = PureCnn()\n",
    "# net_in_net = NetworkInNetwork()\n",
    "# resnet = ResNet()\n",
    "# densenet = DenseNet()\n",
    "# wide_resnet = WideResNet()\n",
    "# capsnet = CapsNet()\n",
    "\n",
    "# models = [lecun_net, pure_cnn, net_in_net, resnet, densenet, wide_resnet, capsnet]"
   ]
  },
  {
   "cell_type": "markdown",
   "metadata": {},
   "source": [
    "Note that there are even more networks available in the `networks` directory, but must be trained before loading them here."
   ]
  },
  {
   "cell_type": "markdown",
   "metadata": {},
   "source": [
    "### Calculate Model Accuracies"
   ]
  },
  {
   "cell_type": "markdown",
   "metadata": {},
   "source": [
    "After loading the models, we would like to evaluate all test images with each model to ensure that we only attack the images which have been classified correctly. The code below will also display the accuracy and number of parameters of each model."
   ]
  },
  {
   "cell_type": "code",
   "execution_count": 9,
   "metadata": {
    "scrolled": true
   },
   "outputs": [
    {
     "name": "stdout",
     "output_type": "stream",
     "text": [
      "Evaluating lecun_net\n",
      "Evaluating resnet\n"
     ]
    },
    {
     "data": {
      "text/html": [
       "<div>\n",
       "<style>\n",
       "    .dataframe thead tr:only-child th {\n",
       "        text-align: right;\n",
       "    }\n",
       "\n",
       "    .dataframe thead th {\n",
       "        text-align: left;\n",
       "    }\n",
       "\n",
       "    .dataframe tbody tr th {\n",
       "        vertical-align: top;\n",
       "    }\n",
       "</style>\n",
       "<table border=\"1\" class=\"dataframe\">\n",
       "  <thead>\n",
       "    <tr style=\"text-align: right;\">\n",
       "      <th></th>\n",
       "      <th>name</th>\n",
       "      <th>accuracy</th>\n",
       "      <th>param_count</th>\n",
       "    </tr>\n",
       "  </thead>\n",
       "  <tbody>\n",
       "    <tr>\n",
       "      <th>0</th>\n",
       "      <td>lecun_net</td>\n",
       "      <td>0.7488</td>\n",
       "      <td>62006</td>\n",
       "    </tr>\n",
       "    <tr>\n",
       "      <th>1</th>\n",
       "      <td>resnet</td>\n",
       "      <td>0.9231</td>\n",
       "      <td>470218</td>\n",
       "    </tr>\n",
       "  </tbody>\n",
       "</table>\n",
       "</div>"
      ],
      "text/plain": [
       "        name  accuracy  param_count\n",
       "0  lecun_net    0.7488        62006\n",
       "1     resnet    0.9231       470218"
      ]
     },
     "execution_count": 9,
     "metadata": {},
     "output_type": "execute_result"
    }
   ],
   "source": [
    "network_stats, correct_imgs = evaluate_models(models, x_test, y_test)\n",
    "correct_imgs = pd.DataFrame(correct_imgs, columns=['name', 'img', 'label', 'confidence', 'pred'])\n",
    "network_stats = pd.DataFrame(network_stats, columns=['name', 'accuracy', 'param_count'])\n",
    "\n",
    "network_stats"
   ]
  },
  {
   "cell_type": "markdown",
   "metadata": {},
   "source": [
    "### Prediction Function"
   ]
  },
  {
   "cell_type": "markdown",
   "metadata": {},
   "source": [
    "For the black-box attack, all we should care about is the inputs to the model (the images), and the outputs of the model (the prediction probabilities). No special information about the model is required; we could even swap it with a model that is not a neural network.\n",
    "\n",
    "Define a function that runs a perturbed image on a given model and returns the model's confidence (probability output) in a target class. If the target class is the correct class, this will be the function that we want to minimize so that the model will be most confident in another class (which is incorrect). Otherwise, the target is an incorrect class and we will want to maximize it."
   ]
  },
  {
   "cell_type": "code",
   "execution_count": 10,
   "metadata": {
    "collapsed": true
   },
   "outputs": [],
   "source": [
    "def predict_class(x, img, target_class, model, minimize=True):\n",
    "    # Perturb the image with the given pixel(s) x and get the prediction of the model\n",
    "    img_perturbed = perturb_image(x, img)\n",
    "    prediction = model.predict_one(img_perturbed)[target_class]\n",
    "    # This function should always be minimized, so return its complement if needed\n",
    "    return prediction if minimize else 1 - prediction"
   ]
  },
  {
   "cell_type": "markdown",
   "metadata": {},
   "source": [
    "Below we can modify a pixel in an image and see how the confidence of the model changes. In almost all cases, the confidence will not change. However, for very special cases it will change drastically."
   ]
  },
  {
   "cell_type": "code",
   "execution_count": 11,
   "metadata": {
    "scrolled": true
   },
   "outputs": [
    {
     "name": "stdout",
     "output_type": "stream",
     "text": [
      "Confidence in true class bird is 0.000188875\n",
      "Prior confidence was 0.706618\n"
     ]
    },
    {
     "data": {
      "image/png": "[encoded data removed]",
      "text/plain": [
       "<matplotlib.figure.Figure at 0x7f97deed64e0>"
      ]
     },
     "metadata": {},
     "output_type": "display_data"
    }
   ],
   "source": [
    "image = 384\n",
    "pixel = np.array([16, 13,  25, 48, 156])\n",
    "model = resnet\n",
    "\n",
    "true_class = y_test[image,0]\n",
    "# prior_confidence = model.predict_one(x_test[image])[true_class]\n",
    "prior_confidence = model.predict_one(x_test[image])[true_class]\n",
    "confidence = predict_class(pixel, x_test[image], true_class, model)\n",
    "\n",
    "print('Confidence in true class', class_names[true_class], 'is', confidence)\n",
    "print('Prior confidence was', prior_confidence)\n",
    "plot_image(perturb_image(pixel, x_test[image]))"
   ]
  },
  {
   "cell_type": "markdown",
   "metadata": {},
   "source": [
    "## The Attack"
   ]
  },
  {
   "cell_type": "markdown",
   "metadata": {},
   "source": [
    "Here we will demonstrate two variants of the one pixel attack: untargeted and targeted."
   ]
  },
  {
   "cell_type": "markdown",
   "metadata": {},
   "source": [
    "### Targeted vs. Untargeted Attacks"
   ]
  },
  {
   "cell_type": "markdown",
   "metadata": {},
   "source": [
    "The objective of an untargeted attack is to cause a model to misclassify an image. This means we want to perturb an image as to minimize the confidence probability of the correct classification category and maximize the sum of the probabilities of all other categories.\n",
    "\n",
    "The objective of a targeted attack is to cause a model to classify an image as a given  target class. We want to perturb an image as to maximize the probability of a class of our own choosing."
   ]
  },
  {
   "cell_type": "markdown",
   "metadata": {},
   "source": [
    "### Success Criterion"
   ]
  },
  {
   "cell_type": "markdown",
   "metadata": {},
   "source": [
    "Define a function so that whenever a given perturbation is sufficient to fool a model, it returns `True`. This will be called the success criterion. The `targeted_attack` boolean flag will indicate whether success means maximization of the target class or minimization of the correct (target) class."
   ]
  },
  {
   "cell_type": "code",
   "execution_count": 12,
   "metadata": {
    "collapsed": true
   },
   "outputs": [],
   "source": [
    "def attack_success(x, img, target_class, model, targeted_attack=False, verbose=False):\n",
    "    # Perturb the image with the given pixel(s) and get the prediction of the model\n",
    "    attack_image = perturb_image(x, x_test[img])\n",
    "\n",
    "    confidence = model.predict_one(attack_image)\n",
    "    predicted_class = np.argmax(confidence)\n",
    "    \n",
    "    # If the prediction is what we want (misclassification or \n",
    "    # targeted classification), return True\n",
    "    if (verbose):\n",
    "        print('Confidence:', confidence[target_class])\n",
    "    if ((targeted_attack and predicted_class == target_class) or\n",
    "        (not targeted_attack and predicted_class != target_class)):\n",
    "        return True"
   ]
  },
  {
   "cell_type": "markdown",
   "metadata": {},
   "source": [
    "Here we demonstrate the usage of the success criterion function. It's nearly identical to `predict_class()` as before, but also decides the success of the attack. For purposes of demonstration we assume an untargeted attack."
   ]
  },
  {
   "cell_type": "code",
   "execution_count": 13,
   "metadata": {},
   "outputs": [
    {
     "name": "stdout",
     "output_type": "stream",
     "text": [
      "Confidence: 0.0746009\n",
      "Prior confidence 0.500542\n",
      "Attack success: True\n"
     ]
    },
    {
     "data": {
      "image/png": "[encoded data removed]",
      "text/plain": [
       "<matplotlib.figure.Figure at 0x7f97deedc198>"
      ]
     },
     "metadata": {},
     "output_type": "display_data"
    }
   ],
   "source": [
    "image = 541\n",
    "pixel = np.array([17, 18, 185, 36, 215])\n",
    "model = resnet\n",
    "\n",
    "true_class = y_test[image,0]\n",
    "prior_confidence = model.predict_one(x_test[image])[true_class]\n",
    "success = attack_success(pixel, image, true_class, model, verbose=True)\n",
    "\n",
    "print('Prior confidence', prior_confidence)\n",
    "print('Attack success:', success == True)\n",
    "plot_image(perturb_image(pixel, x_test[image]))"
   ]
  },
  {
   "cell_type": "markdown",
   "metadata": {},
   "source": [
    "### Attack Function"
   ]
  },
  {
   "cell_type": "markdown",
   "metadata": {},
   "source": [
    "Finally, we arrive at the attack itself: how do we find the pixels that will result in a successful attack? First, formulate it as an optimization problem: in an untargeted attack, minimize the confidence of the correct class, and in a targeted attack, maximize the confidence of a target class. This is precisely our `predict_class` function.\n",
    "\n",
    "When performing black-box optimizations such as the one pixel attack, it can be very difficult to find an efficient gradient-based optimization that will work for the problem. It would be nice to use an optimization algorithm that can find good solutions without relying on the smoothness of the function. In our case, we have discrete integer positions ranging from 0 to 31 and color intensities from 0 to 255, so the function is expected to be spiky.\n",
    "\n",
    "For that, we use an algorithm called [differential evolution](https://en.wikipedia.org/wiki/Differential_evolution). Here's an example of differential evolution optimizing the [Ackley function](https://en.wikipedia.org/wiki/Ackley_function):\n",
    "\n",
    "<br>\n",
    "\n",
    "![Ackley GIF](images/Ackley.gif)\n",
    "\n",
    "<br>\n",
    "\n",
    "Differential evolution is a type of evolutionary algorithm where a population of candidate solutions generate offspring which compete with the rest of the population each generation according to their fitness. Each candidate solution is represented by a vector of real numbers which are the inputs to the function we would like to minimize. The lower the output of this function, the better the fitness. The algorithm works by initializing a (usually random) population of vectors, generating new offspring vectors by combining (mutating) individuals in the population, and replacing worse-performing individuals with better candidates.\n",
    "\n",
    "In the context of the one pixel attack, our input will be a flat vector of pixel values:\n",
    "\n",
    "$$X = (x_1, y_1, r_1, g_1, b_1, x_2, y_2, r_2, g_2, b_2, ...)$$\n",
    "\n",
    "These will be encoded as floating-point values, but will be floored back into integers to calculate image perturbations. First we generate a random population of $n$ perturbations\n",
    "\n",
    "$$\\textbf{P} = (X_1, X_2, \\dots, X_n)$$\n",
    "\n",
    "Then, on each iteration we calculate $n$ new mutant children using the formula\n",
    "\n",
    "$$X_i = X_{r1} + F (X_{r2} - X_{r3})$$\n",
    "\n",
    "such that\n",
    "\n",
    "$$r1 \\neq r2 \\neq r3$$\n",
    "\n",
    "where $r1,r2,r3$ are random indices into our population $\\textbf{P}$, and $F = 0.5$ is a mutation parameter. Basically, we pick 3 random individuals from the previous generation and recombine them to make a new candidate solution. If this candidate $X_i$ gives a lower minimum at position $i$ (i.e., the attack is closer to success), replace the old $X_i$ with this new one. This process repeats for several iterations until our stopping criterion, `attack_success`, which is when we find an image that successfully completes the attack.\n",
    "\n",
    "<br>\n",
    "\n",
    "See [this excellent tutorial post](https://pablormier.github.io/2017/09/05/a-tutorial-on-differential-evolution-with-python/) on how differential evolution works in greater detail. \n",
    "\n",
    "We will use [Scipy's implementation of differential evolution](https://docs.scipy.org/doc/scipy-0.17.0/reference/generated/scipy.optimize.differential_evolution.html). For demonstration purposes it's more than sufficient (however, it can be optimized further).\n"
   ]
  },
  {
   "cell_type": "code",
   "execution_count": 14,
   "metadata": {
    "collapsed": true
   },
   "outputs": [],
   "source": [
    "def attack(img, model, target=None, pixel_count=1, \n",
    "           maxiter=30, popsize=30, verbose=False):\n",
    "    # Change the target class based on whether this is a targeted attack or not\n",
    "    targeted_attack = target is not None\n",
    "    target_class = target if targeted_attack else y_test[img,0]\n",
    "    \n",
    "    # Define bounds for a flat vector of x,y,r,g,b values\n",
    "    # For more pixels, repeat this layout\n",
    "    bounds = [(0,32), (0,32), (0,256), (0,256), (0,256)] * pixel_count\n",
    "    \n",
    "    # Format the predict/callback functions for the differential evolution algorithm\n",
    "    predict_fn = lambda x: predict_class(\n",
    "        x, x_test[img], target_class, model, target is None)\n",
    "    callback_fn = lambda x, convergence: attack_success(\n",
    "        x, img, target_class, model, targeted_attack, verbose)\n",
    "    \n",
    "    # Call Scipy's Implementation of Differential Evolution\n",
    "    attack_result = differential_evolution(\n",
    "        predict_fn, bounds, maxiter=maxiter, popsize=max(1, popsize // pixel_count),\n",
    "        recombination=1, atol=-1, callback=callback_fn)\n",
    "\n",
    "    # Calculate some useful statistics to return from this function\n",
    "    attack_image = perturb_image(attack_result.x, x_test[img])\n",
    "    prior_probs = model.predict_one(x_test[img])\n",
    "    predicted_probs = model.predict_one(attack_image)\n",
    "    predicted_class = np.argmax(predicted_probs)\n",
    "    actual_class = y_test[img,0]\n",
    "    success = predicted_class != actual_class\n",
    "    cdiff = prior_probs[actual_class] - predicted_probs[actual_class]\n",
    "\n",
    "    # Show the best attempt at a solution (successful or not)\n",
    "    plot_image(attack_image, actual_class, class_names, predicted_class)\n",
    "\n",
    "    return [model.name, pixel_count, img, actual_class, predicted_class, success, cdiff, prior_probs, predicted_probs, attack_image]"
   ]
  },
  {
   "cell_type": "markdown",
   "metadata": {},
   "source": [
    "#### Untargeted Attack"
   ]
  },
  {
   "cell_type": "markdown",
   "metadata": {},
   "source": [
    "Let's look at one iteration of the untargeted attack. Here we will demonstrate a successful attack an image of a frog with the `resnet` model. We should see the confidence in the true class drop after several iterations.\n",
    "\n",
    "Try to see if you can successfully attack other images/models. The more pixels we are allowed to modify, the more likely it is we are to find a solution for any given image."
   ]
  },
  {
   "cell_type": "code",
   "execution_count": 15,
   "metadata": {
    "scrolled": false
   },
   "outputs": [
    {
     "name": "stdout",
     "output_type": "stream",
     "text": [
      "Confidence: 0.998371\n",
      "Confidence: 0.998371\n",
      "Confidence: 0.998371\n",
      "Confidence: 0.982149\n",
      "Confidence: 0.982149\n",
      "Confidence: 0.982149\n",
      "Confidence: 0.942167\n",
      "Confidence: 0.942167\n",
      "Confidence: 0.942167\n",
      "Confidence: 0.942167\n",
      "Confidence: 0.942167\n",
      "Confidence: 0.211713\n"
     ]
    },
    {
     "data": {
      "image/png": "[encoded data removed]",
      "text/plain": [
       "<matplotlib.figure.Figure at 0x7f97bfff35f8>"
      ]
     },
     "metadata": {},
     "output_type": "display_data"
    }
   ],
   "source": [
    "image = 102\n",
    "pixels = 2 # Number of pixels to attack\n",
    "model = resnet\n",
    "\n",
    "_ = attack(image, model, pixel_count=pixels, verbose=True)"
   ]
  },
  {
   "cell_type": "markdown",
   "metadata": {},
   "source": [
    "#### Targeted Attack"
   ]
  },
  {
   "cell_type": "markdown",
   "metadata": {},
   "source": [
    "In the targeted attack, we can choose which class we want a model to classify an image as. The task is much harder for the targeted attack, as we constrain the misclassification to a given class rather than any class that's not the correct one. We should see the confidence in the target class rise after several iterations.\n",
    "\n",
    "Below we try to cause the `lecun_net` to classify an image of a `ship` as an `automobile`. Try to change the parameters and see what happens."
   ]
  },
  {
   "cell_type": "code",
   "execution_count": 16,
   "metadata": {
    "scrolled": false
   },
   "outputs": [
    {
     "name": "stdout",
     "output_type": "stream",
     "text": [
      "Attacking with target automobile\n",
      "Confidence: 0.0169682\n",
      "Confidence: 0.0263455\n",
      "Confidence: 0.029639\n",
      "Confidence: 0.0955807\n",
      "Confidence: 0.0955807\n",
      "Confidence: 0.0955807\n",
      "Confidence: 0.0955807\n",
      "Confidence: 0.0955807\n",
      "Confidence: 0.131502\n",
      "Confidence: 0.131502\n",
      "Confidence: 0.131502\n",
      "Confidence: 0.131502\n",
      "Confidence: 0.131502\n",
      "Confidence: 0.131502\n",
      "Confidence: 0.164266\n",
      "Confidence: 0.164266\n",
      "Confidence: 0.164266\n",
      "Confidence: 0.266853\n",
      "Confidence: 0.266853\n",
      "Confidence: 0.266853\n",
      "Confidence: 0.266853\n",
      "Confidence: 0.31181\n",
      "Confidence: 0.415371\n",
      "Confidence: 0.415371\n",
      "Confidence: 0.415371\n",
      "Confidence: 0.415371\n",
      "Confidence: 0.452527\n",
      "Confidence: 0.613849\n"
     ]
    },
    {
     "data": {
      "image/png": "[encoded data removed]",
      "text/plain": [
       "<matplotlib.figure.Figure at 0x7f97bffe9780>"
      ]
     },
     "metadata": {},
     "output_type": "display_data"
    }
   ],
   "source": [
    "image = 108\n",
    "target_class = 1 # Integer in range 0-9\n",
    "pixels = 3\n",
    "model = lecun_net\n",
    "\n",
    "print('Attacking with target', class_names[target_class])\n",
    "_ = attack(image, model, target_class, pixel_count=pixels, popsize=50, maxiter=40, verbose=True)"
   ]
  },
  {
   "cell_type": "markdown",
   "metadata": {},
   "source": [
    "### Collect Results"
   ]
  },
  {
   "cell_type": "markdown",
   "metadata": {},
   "source": [
    "Armed with all the necessary tools to conduct a one pixel attack, the final step is to collect relevant statistics on the targeted and untargeted attack. The relevant data points are what percentage of images were we able to successfully attack for a given model, and how the number of pixels affect this percentage.\n",
    "\n",
    "We will loop through every combination of all models, perturbations of 1-3 pixels, images, and target classes (for the targeted attack). This will take a lot of computational resources and time, so [skip to the statistics section](#Attack-Statistics) if that's not your idea of fun."
   ]
  },
  {
   "cell_type": "code",
   "execution_count": 17,
   "metadata": {
    "collapsed": true
   },
   "outputs": [],
   "source": [
    "def attack_all(models, samples=100, pixels=(1,2,3), targeted=False, verbose=False):\n",
    "    results = []\n",
    "    for model in models:\n",
    "        model_results = []\n",
    "        valid_imgs = correct_imgs[correct_imgs.name == model.name].img\n",
    "        img_samples = np.random.choice(valid_imgs, samples)\n",
    "        for pixel_count in pixels:\n",
    "            for i,img in enumerate(img_samples):\n",
    "                print(model.name, '- image', img, '-', i+1, '/', len(img_samples))\n",
    "                targets = [None] if not targeted else range(10)\n",
    "                \n",
    "                for target in targets:\n",
    "                    if (targeted):\n",
    "                        print('Attacking with target', class_names[target])\n",
    "                        if (target == y_test[img,0]):\n",
    "                            continue\n",
    "                    result = attack(img, model, target, pixel_count, verbose=verbose)\n",
    "                    model_results.append(result)\n",
    "        results += model_results\n",
    "    return results"
   ]
  },
  {
   "cell_type": "markdown",
   "metadata": {
    "scrolled": true
   },
   "source": [
    "```\n",
    "untargeted = attack_all(models, samples=100, targeted=False)\n",
    "targeted = attack_all(models, samples=10, targeted=True)\n",
    "```"
   ]
  },
  {
   "cell_type": "markdown",
   "metadata": {},
   "source": [
    "### Attack Statistics"
   ]
  },
  {
   "cell_type": "code",
   "execution_count": 18,
   "metadata": {
    "collapsed": true
   },
   "outputs": [],
   "source": [
    "# Save/load our results\n",
    "# There are precalculated results we can load in this repo\n",
    "save = False\n",
    "load = True\n",
    "\n",
    "if save:\n",
    "    with open('networks/results/untargeted_results.pkl', 'wb') as file:\n",
    "        pickle.dump(untargeted, file)\n",
    "    with open('networks/results/targeted_results.pkl', 'wb') as file:\n",
    "        pickle.dump(targeted, file)\n",
    "if load:\n",
    "    with open('networks/results/untargeted_results.pkl', 'rb') as file:\n",
    "        untargeted = pickle.load(file)\n",
    "    with open('networks/results/targeted_results.pkl', 'rb') as file:\n",
    "        targeted = pickle.load(file)"
   ]
  },
  {
   "cell_type": "markdown",
   "metadata": {},
   "source": [
    "Print the final results! "
   ]
  },
  {
   "cell_type": "code",
   "execution_count": 19,
   "metadata": {
    "collapsed": true,
    "scrolled": true
   },
   "outputs": [],
   "source": [
    "columns = ['model', 'pixels', 'image', 'true', 'predicted', 'success', 'cdiff', 'prior_probs', 'predicted_probs', 'attack_image']\n",
    "untargeted_results = pd.DataFrame(untargeted, columns=columns)\n",
    "targeted_results = pd.DataFrame(targeted, columns=columns)"
   ]
  },
  {
   "cell_type": "markdown",
   "metadata": {},
   "source": [
    "#### Untargeted"
   ]
  },
  {
   "cell_type": "code",
   "execution_count": 20,
   "metadata": {},
   "outputs": [
    {
     "data": {
      "text/html": [
       "<div>\n",
       "<style>\n",
       "    .dataframe thead tr:only-child th {\n",
       "        text-align: right;\n",
       "    }\n",
       "\n",
       "    .dataframe thead th {\n",
       "        text-align: left;\n",
       "    }\n",
       "\n",
       "    .dataframe tbody tr th {\n",
       "        vertical-align: top;\n",
       "    }\n",
       "</style>\n",
       "<table border=\"1\" class=\"dataframe\">\n",
       "  <thead>\n",
       "    <tr style=\"text-align: right;\">\n",
       "      <th></th>\n",
       "      <th>model</th>\n",
       "      <th>accuracy</th>\n",
       "      <th>attack_success_rate</th>\n",
       "    </tr>\n",
       "  </thead>\n",
       "  <tbody>\n",
       "    <tr>\n",
       "      <th>0</th>\n",
       "      <td>lecun_net</td>\n",
       "      <td>0.7488</td>\n",
       "      <td>0.726667</td>\n",
       "    </tr>\n",
       "    <tr>\n",
       "      <th>1</th>\n",
       "      <td>resnet</td>\n",
       "      <td>0.9231</td>\n",
       "      <td>0.533333</td>\n",
       "    </tr>\n",
       "  </tbody>\n",
       "</table>\n",
       "</div>"
      ],
      "text/plain": [
       "       model  accuracy  attack_success_rate\n",
       "0  lecun_net    0.7488             0.726667\n",
       "1     resnet    0.9231             0.533333"
      ]
     },
     "execution_count": 20,
     "metadata": {},
     "output_type": "execute_result"
    }
   ],
   "source": [
    "attack_stats(untargeted_results, models, network_stats)"
   ]
  },
  {
   "cell_type": "markdown",
   "metadata": {},
   "source": [
    "#### Targeted"
   ]
  },
  {
   "cell_type": "code",
   "execution_count": 21,
   "metadata": {},
   "outputs": [
    {
     "data": {
      "text/html": [
       "<div>\n",
       "<style>\n",
       "    .dataframe thead tr:only-child th {\n",
       "        text-align: right;\n",
       "    }\n",
       "\n",
       "    .dataframe thead th {\n",
       "        text-align: left;\n",
       "    }\n",
       "\n",
       "    .dataframe tbody tr th {\n",
       "        vertical-align: top;\n",
       "    }\n",
       "</style>\n",
       "<table border=\"1\" class=\"dataframe\">\n",
       "  <thead>\n",
       "    <tr style=\"text-align: right;\">\n",
       "      <th></th>\n",
       "      <th>model</th>\n",
       "      <th>accuracy</th>\n",
       "      <th>attack_success_rate</th>\n",
       "    </tr>\n",
       "  </thead>\n",
       "  <tbody>\n",
       "    <tr>\n",
       "      <th>0</th>\n",
       "      <td>lecun_net</td>\n",
       "      <td>0.7488</td>\n",
       "      <td>0.344444</td>\n",
       "    </tr>\n",
       "    <tr>\n",
       "      <th>1</th>\n",
       "      <td>resnet</td>\n",
       "      <td>0.9231</td>\n",
       "      <td>0.233333</td>\n",
       "    </tr>\n",
       "  </tbody>\n",
       "</table>\n",
       "</div>"
      ],
      "text/plain": [
       "       model  accuracy  attack_success_rate\n",
       "0  lecun_net    0.7488             0.344444\n",
       "1     resnet    0.9231             0.233333"
      ]
     },
     "execution_count": 21,
     "metadata": {},
     "output_type": "execute_result"
    }
   ],
   "source": [
    "attack_stats(targeted_results, models, network_stats)"
   ]
  },
  {
   "cell_type": "markdown",
   "metadata": {},
   "source": [
    "### Show some successful attacks"
   ]
  },
  {
   "cell_type": "markdown",
   "metadata": {},
   "source": [
    "Plot 9 random successful attack images"
   ]
  },
  {
   "cell_type": "code",
   "execution_count": 22,
   "metadata": {},
   "outputs": [
    {
     "name": "stdout",
     "output_type": "stream",
     "text": [
      "Untargeted Attack\n"
     ]
    },
    {
     "data": {
      "image/png": "[encoded data removed]",
      "text/plain": [
       "<matplotlib.figure.Figure at 0x7f97bfedce48>"
      ]
     },
     "metadata": {},
     "output_type": "display_data"
    }
   ],
   "source": [
    "print('Untargeted Attack')\n",
    "visualize_attack(untargeted_results, class_names)"
   ]
  },
  {
   "cell_type": "code",
   "execution_count": 23,
   "metadata": {},
   "outputs": [
    {
     "name": "stdout",
     "output_type": "stream",
     "text": [
      "Targeted Attack\n"
     ]
    },
    {
     "data": {
      "image/png": "[encoded data removed]",
      "text/plain": [
       "<matplotlib.figure.Figure at 0x7f97b71e90b8>"
      ]
     },
     "metadata": {},
     "output_type": "display_data"
    }
   ],
   "source": [
    "print('Targeted Attack')\n",
    "visualize_attack(targeted_results, class_names)"
   ]
  },
  {
   "cell_type": "markdown",
   "metadata": {},
   "source": [
    "## Conclusions"
   ]
  },
  {
   "cell_type": "markdown",
   "metadata": {},
   "source": [
    "It appears that the accuracy of a model is not strongly correlated with the chance of performing a successful attack on an image. Perhaps surprisingly, the purely convolutional model is the most resistant to these types of attacks."
   ]
  },
  {
   "cell_type": "markdown",
   "metadata": {},
   "source": [
    "These results achieve success rates much lower than described in the academic paper due to a couple reasons:\n",
    "\n",
    "1. The authors do not provide any source code, so there is no baseline to compare to.\n",
    "2. This implementation calculates a far smaller population size and uses fewer iterations in the differential evolution algorithm to keep it fast. This is because the differential evolution algorithm is inefficient and could be improved. The `differential_evolution()` function calculates predictions individually instead of batching inputs together. As there's no option to do this in `Scipy`'s implementation, it will need to be rewritten."
   ]
  },
  {
   "cell_type": "markdown",
   "metadata": {},
   "source": [
    "TODO: more data necessary for more conclusions!"
   ]
  },
  {
   "cell_type": "markdown",
   "metadata": {},
   "source": [
    "## Credits\n",
    " -  This implemenation is based off of the original paper describing the one pixel attack: https://arxiv.org/abs/1710.08864\n",
    " - Base code for iPython notebook: https://github.com/09rohanchopra/cifar10\n",
    " - Keras Cifar10 models: https://github.com/BIGBALLON/cifar-10-cnn\n",
    " - Scipy's differential evolution implementation: https://docs.scipy.org/doc/scipy-0.17.0/reference/generated/scipy.optimize.differential_evolution.html\n",
    " - State of the art: https://github.com/RedditSota/state-of-the-art-result-for-machine-learning-problems\n",
    " - CapsNet Keras: https://github.com/XifengGuo/CapsNet-Keras\n",
    " - CapsNet with Cifar: https://github.com/theblackcat102/dynamic-routing-capsule-cifar"
   ]
  },
  {
   "cell_type": "code",
   "execution_count": null,
   "metadata": {
    "collapsed": true
   },
   "outputs": [],
   "source": []
  }
 ],
 "metadata": {
  "kernelspec": {
   "display_name": "Python 3",
   "language": "python",
   "name": "python3"
  },
  "language_info": {
   "codemirror_mode": {
    "name": "ipython",
    "version": 3
   },
   "file_extension": ".py",
   "mimetype": "text/x-python",
   "name": "python",
   "nbconvert_exporter": "python",
   "pygments_lexer": "ipython3",
   "version": "3.5.3"
  }
 },
 "nbformat": 4,
 "nbformat_minor": 2
}
